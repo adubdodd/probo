{
 "cells": [
  {
   "cell_type": "markdown",
   "metadata": {},
   "source": [
    "## Asian Geometric Option"
   ]
  },
  {
   "cell_type": "code",
   "execution_count": 2,
   "metadata": {},
   "outputs": [
    {
     "name": "stdout",
     "output_type": "stream",
     "text": [
      "The call price via Simple Monte Carlo is: 5.0236. The std err is: 0.0775. The time elapsed was 0.1613 seconds.\n",
      "The call price via Geometric Asian Control Variate Monte Carlo is: 6.1814 The std err is: 0.2013 The time elapsed was 7.4452 seconds. \n"
     ]
    }
   ],
   "source": [
    "from probo.marketdata import MarketData\n",
    "from probo.payoff import ExoticPayoff, arithmeticAsianCallPayoff, arithmeticAsianPutPayoff\n",
    "from probo.engine import MonteCarloEngine, NaiveMonteCarloPricer, PathwiseNaiveMonteCarloPricer, ControlVariatePricer\n",
    "from probo.facade import OptionFacade\n",
    "import time\n",
    "\n",
    "## Set up the market data\n",
    "spot = 100\n",
    "rate = 0.06\n",
    "volatility = 0.20\n",
    "dividend = 0.03\n",
    "thedata = MarketData(rate, spot, volatility, dividend)\n",
    "\n",
    "## Set up the option\n",
    "expiry = 1\n",
    "strike = 100\n",
    "the_simple_monte_carlo_call = ExoticPayoff(expiry, strike, arithmeticAsianCallPayoff)\n",
    "the_geom_monte_carlo_call = ExoticPayoff(expiry, strike, arithmeticAsianPutPayoff)\n",
    "\n",
    "## Set up Naive Monte Carlo\n",
    "nreps = 10000\n",
    "steps = 10\n",
    "# pricer = NaiveMonteCarloPricer\n",
    "pricer_1 = PathwiseNaiveMonteCarloPricer\n",
    "mc_engine_1 = MonteCarloEngine(nreps, steps, pricer_1)\n",
    "pricer_2 = ControlVariatePricer\n",
    "mc_engine_2 = MonteCarloEngine(nreps, steps, pricer_2)\n",
    "\n",
    "## Calculate the price\n",
    "option1 = OptionFacade(the_simple_monte_carlo_call, mc_engine_1, thedata)\n",
    "time_start_1 = time.clock()\n",
    "price1 = option1.price()\n",
    "time_elapsed_1 = (time.clock() - time_start_1)\n",
    "# print(\"The call price via Simple Monte Carlo is: {0:.4f}. The std err is: {1:.4f}. The time elapsed was {2:.4f} seconds.\".format(*price1, time_elapsed_1))\n",
    "\n",
    "option2 = OptionFacade(the_geom_monte_carlo_call, mc_engine_2, thedata)\n",
    "time_start_2 = time.clock()\n",
    "price2 = option2.price()\n",
    "time_elapsed_2 = (time.clock() - time_start_2)\n",
    "# print(\"The call price via Geometric Asian Control Variate Monte Carlo is: {0:.4f} The std err is: {1:.4f} The time elapsed was {2:.4f} seconds. \".format(*price2, time_elapsed_2))"
   ]
  },
  {
   "cell_type": "code",
   "execution_count": 8,
   "metadata": {},
   "outputs": [
    {
     "name": "stdout",
     "output_type": "stream",
     "text": [
      "|                      | Call Option Price  | Call Option Std. Err. | Relative Comp. Time |\n",
      "| -------------------- | ------------------ | --------------------- | ------------------- |\n",
      "| Simple Monte Carlo   | 5.023555230553081  | 0.07750409309376699   | 7.445232000000001   |\n",
      "| Geom. Asian M. Carlo | 6.181435322038128  | 0.20134020365139552   | 7.445232000000001   |\n"
     ]
    }
   ],
   "source": [
    "print('|                      | Call Option Price  | Call Option Std. Err. | Relative Comp. Time |')\n",
    "print('| -------------------- | ------------------ | --------------------- | ------------------- |')\n",
    "print('| Simple Monte Carlo   | ' + str(price1[0]) + '  | ' + str(price1[1]) + '   | ' + str(time_elapsed_2) + '   |')\n",
    "print('| Geom. Asian M. Carlo | ' + str(price2[0]) + '  | ' + str(price2[1]) + '   | ' + str(time_elapsed_2) + '   |')"
   ]
  },
  {
   "cell_type": "markdown",
   "metadata": {},
   "source": []
  },
  {
   "cell_type": "code",
   "execution_count": null,
   "metadata": {},
   "outputs": [],
   "source": []
  }
 ],
 "metadata": {
  "kernelspec": {
   "display_name": "Python 3",
   "language": "python",
   "name": "python3"
  },
  "language_info": {
   "codemirror_mode": {
    "name": "ipython",
    "version": 3
   },
   "file_extension": ".py",
   "mimetype": "text/x-python",
   "name": "python",
   "nbconvert_exporter": "python",
   "pygments_lexer": "ipython3",
   "version": "3.6.6"
  }
 },
 "nbformat": 4,
 "nbformat_minor": 2
}
